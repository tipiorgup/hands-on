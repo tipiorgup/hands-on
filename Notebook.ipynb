{
  "nbformat": 4,
  "nbformat_minor": 0,
  "metadata": {
    "colab": {
      "name": "Untitled3.ipynb",
      "provenance": [],
      "collapsed_sections": [],
      "authorship_tag": "ABX9TyOgA+dFqlrlNAyDCdCNJ90a",
      "include_colab_link": true
    },
    "kernelspec": {
      "name": "python3",
      "display_name": "Python 3"
    },
    "language_info": {
      "name": "python"
    }
  },
  "cells": [
    {
      "cell_type": "markdown",
      "metadata": {
        "id": "view-in-github",
        "colab_type": "text"
      },
      "source": [
        "<a href=\"https://colab.research.google.com/github/tipiorgup/tutorial/blob/main/Notebook.ipynb\" target=\"_parent\"><img src=\"https://colab.research.google.com/assets/colab-badge.svg\" alt=\"Open In Colab\"/></a>"
      ]
    },
    {
      "cell_type": "markdown",
      "metadata": {
        "id": "ugCBWu0x0hUr"
      },
      "source": [
        "\n",
        "## **Welcome to the hands-on seminar**\n"
      ]
    },
    {
      "cell_type": "markdown",
      "metadata": {
        "id": "cl81iTR00obl"
      },
      "source": [
        "**Objective:** Learn to use a neural network for energy correction based on structures."
      ]
    },
    {
      "cell_type": "markdown",
      "metadata": {
        "id": "3iNGZdIz0rmm"
      },
      "source": [
        "We need to import source code and to install new packages."
      ]
    },
    {
      "cell_type": "code",
      "metadata": {
        "id": "r0mYwU7Kfyrr"
      },
      "source": [
        "import os\n",
        "import sys\n",
        "import shutil\n",
        "shutil.rmtree(\"/content/tutorial\")"
      ],
      "execution_count": null,
      "outputs": []
    },
    {
      "cell_type": "code",
      "metadata": {
        "colab": {
          "base_uri": "https://localhost:8080/"
        },
        "id": "50RJvpSU04_t",
        "outputId": "36010e45-1a5a-4de4-ccec-e6c88b52b5f8"
      },
      "source": [
        "!git clone https://github.com/tipiorgup/tutorial.git\n",
        "#!pip install ase\n",
        "#!pip install ordered_enum\n",
        "#!pip install q keras==2.2.4\n",
        "#!pip install q tensorflow==1.15"
      ],
      "execution_count": null,
      "outputs": [
        {
          "output_type": "stream",
          "name": "stdout",
          "text": [
            "Cloning into 'tutorial'...\n",
            "remote: Enumerating objects: 150, done.\u001b[K\n",
            "remote: Counting objects: 100% (150/150), done.\u001b[K\n",
            "remote: Compressing objects: 100% (127/127), done.\u001b[K\n",
            "remote: Total 150 (delta 31), reused 120 (delta 20), pack-reused 0\u001b[K\n",
            "Receiving objects: 100% (150/150), 2.46 MiB | 3.71 MiB/s, done.\n",
            "Resolving deltas: 100% (31/31), done.\n"
          ]
        }
      ]
    },
    {
      "cell_type": "code",
      "metadata": {
        "id": "Y7wZvBav1GmY",
        "colab": {
          "base_uri": "https://localhost:8080/"
        },
        "outputId": "0a6f10f6-ee06-41ca-cf6f-46bee52a35b9"
      },
      "source": [
        "import os                                                              \n",
        "import time   \n",
        "import pickle\n",
        "import numpy as np                                                     \n",
        "import pandas as pd   \n",
        "import seaborn as sns                                                  \n",
        "import matplotlib.pyplot as plt                                        \n",
        "                                                                       \n",
        "from sklearn.metrics import mean_absolute_error                        \n",
        "from sklearn.metrics import mean_squared_error                         \n",
        "from sklearn.model_selection import train_test_split                   \n",
        "from sklearn.preprocessing import StandardScaler                       \n",
        "from sklearn.model_selection import train_test_split                   \n",
        "                                                                       \n",
        "import tensorflow.keras                                                                                        \n",
        "from tensorflow.keras.models import Model, Sequential          \n",
        "from keras.optimizers import Adam                     \n",
        "from keras.layers import Input, Dense, Dropout, merge                  \n",
        "from tensorflow.keras.callbacks import ModelCheckpoint, Callback, EarlyStopping   \n",
        "                                                                       \n",
        "import ase                                                             \n",
        "import ase.build                                                       \n",
        "from ase import Atoms                                                  \n",
        "from ase.atoms import Atoms                                            \n",
        "from ase.io import read, write                                         \n",
        "from ase.calculators.dftb import Dftb                                  \n",
        "from ase.units import Hartree, mol, kcal, Bohr  "
      ],
      "execution_count": null,
      "outputs": [
        {
          "output_type": "stream",
          "name": "stderr",
          "text": [
            "Using TensorFlow backend.\n"
          ]
        }
      ]
    },
    {
      "cell_type": "code",
      "metadata": {
        "id": "aGys1PVE03ES"
      },
      "source": [
        "from tutorial.src.Calculator import src_nogrd                                                       \n",
        "from tutorial.src.Calculator.src_nogrd import sym_func_show                                    \n",
        "from  tutorial.src.Calculator.src_nogrd import xyzArr_generator                                 \n",
        "from  tutorial.src.Calculator.src_nogrd import feat_scaling_func                                \n",
        "from  tutorial.src.Calculator.src_nogrd import at_idx_map_generator\n",
        "from tutorial.src.Calculator.store_models import write_subnet_text                             \n",
        "                                                                                                                           \n",
        "import pickle      \n",
        "from itertools import combinations_with_replacement as comb_replace                                                    \n",
        "                                                                       \n",
        "import  tutorial.src.Utils.DirNav                                                \n",
        "from  tutorial.src.Utils.dftb_traj_io import read_scan_traj                          \n",
        "import tutorial.src.Utils.DirNav       \n",
        "import tutorial.src.Utils.netBuilder\n",
        "from tutorial.src.Utils.netBuilder import netBuilder\n",
        "import tutorial.src.Utils.netTrainer\n",
        "from tutorial.src.Utils.netTrainer import netTrainer\n",
        "                                                                       \n",
        "np.random.seed(98167)  # for reproducibility   "
      ],
      "execution_count": 60,
      "outputs": []
    },
    {
      "cell_type": "markdown",
      "metadata": {
        "id": "uITQIWFw1Y4s"
      },
      "source": [
        "Prepare your data:\n",
        "\n",
        "1.   Create your directories: 'data' and 'data_model'\n",
        "2.   In the Github folder you will find 10 structures, make a single file appending your structures.\n",
        "3.   Save this new file into the folder 'data'.\n",
        "4.   Import the energy files into the folder 'data'. How do you obtain this data?"
      ]
    },
    {
      "cell_type": "code",
      "metadata": {
        "colab": {
          "base_uri": "https://localhost:8080/"
        },
        "id": "6pXv7zuu1XVT",
        "outputId": "0c3e165f-eacc-4e6c-dbf7-488a84692ad1"
      },
      "source": [
        "train_name = 'data'\n",
        "save_name = 'data_model'\n",
        "root_dir = '/content/tutorial'\n",
        "train_dir = os.path.join(root_dir, train_name)\n",
        "save_dir = os.path.join(root_dir, save_name)\n",
        "print(train_dir)\n",
        "print(save_dir)"
      ],
      "execution_count": null,
      "outputs": [
        {
          "output_type": "stream",
          "name": "stdout",
          "text": [
            "/content/tutorial/data\n",
            "/content/tutorial/data_model\n"
          ]
        }
      ]
    },
    {
      "cell_type": "markdown",
      "metadata": {
        "id": "p7moNvRsc5Q0"
      },
      "source": [
        "\n",
        "## Import structures ##\n",
        " <br/>\n",
        "Properties will be read from the capture module.\n",
        "* `md_train_arr` Molecular Structure (as ASE.Atoms object) \n",
        "* `md_dftb_ref_e_arr` and `md_pbe_ref_e_arr` DFTB and ab initio relative energy (For Training)\n",
        "<br/>"
      ]
    },
    {
      "cell_type": "code",
      "metadata": {
        "scrolled": true,
        "id": "i5Zmkm7a3UAG"
      },
      "source": [
        "geom_filename          = os.path.join(train_dir, 'str.xyz')\n",
        "md_train_arr_origin    = read_scan_traj(filename=geom_filename)\n",
        "md_low_rel_e_arr_name  = os.path.join(train_dir, 'DFTB.dat')\n",
        "md_high_rel_e_arr_name = os.path.join(train_dir, 'CC.dat')\n",
        "try:\n",
        "    md_dftb_ref_e_arr = np.loadtxt(md_low_rel_e_arr_name)\n",
        "    md_pbe_ref_e_arr = np.loadtxt(md_high_rel_e_arr_name)\n",
        "except:\n",
        "    raise OSError(\"Cannot Read md_calc_rel_e_arr\")\n",
        "    #os.rmdir(save_dir)\n",
        "    \n",
        "#print(md_dftb_ref_e_arr, md_pbe_ref_e_arr)\n",
        "#print(\"Before Copy\")\n",
        "#print(md_train_arr_origin)\n",
        "#WARNING: To Get the sample without index\n",
        "md_train_arr = md_train_arr_origin.copy(deep=False).reset_index(drop=True)\n",
        "#print(\"After Copy\")\n",
        "#print(md_train_arr)\n",
        "\n",
        "md_rel_energy_arr = md_pbe_ref_e_arr - md_dftb_ref_e_arr\n",
        "# Get rid of error values.\n",
        "nan_index = np.where(np.isnan(md_rel_energy_arr))\n",
        "\n",
        "for idx in nan_index:\n",
        "    md_train_arr.drop(idx)\n",
        "    md_rel_energy_arr = md_rel_energy_arr[~np.isnan(md_rel_energy_arr)]"
      ],
      "execution_count": null,
      "outputs": []
    },
    {
      "cell_type": "markdown",
      "metadata": {
        "id": "QLMu3-fRsZLE"
      },
      "source": [
        "Plot DFTB vs CC. Why is this important?"
      ]
    },
    {
      "cell_type": "code",
      "metadata": {
        "colab": {
          "base_uri": "https://localhost:8080/",
          "height": 537
        },
        "id": "Z5VzKT3orwRC",
        "outputId": "5a7d4f2c-5335-4e8f-b9d2-44d5cb43d44d"
      },
      "source": [
        "plt.figure(figsize=(8,8))\n",
        "plt.scatter(md_dftb_ref_e_arr, md_pbe_ref_e_arr,s=7)\n",
        "plt.xlabel('DFTB [kcal/mol]', fontsize = 12)\n",
        "plt.ylabel('CC [kcal/mol]', fontsize = 12)\n",
        "plt.xticks(fontsize=10)\n",
        "plt.yticks(fontsize=10)"
      ],
      "execution_count": 58,
      "outputs": [
        {
          "output_type": "execute_result",
          "data": {
            "text/plain": [
              "(array([35., 40., 45., 50., 55., 60., 65., 70., 75.]),\n",
              " <a list of 9 Text major ticklabel objects>)"
            ]
          },
          "metadata": {},
          "execution_count": 58
        },
        {
          "output_type": "display_data",
          "data": {
            "image/png": "[encoded data removed]",
            "text/plain": [
              "<Figure size 576x576 with 1 Axes>"
            ]
          },
          "metadata": {
            "needs_background": "light"
          }
        }
      ]
    },
    {
      "cell_type": "code",
      "metadata": {
        "id": "LAQ6aYgcqdEo",
        "colab": {
          "base_uri": "https://localhost:8080/",
          "height": 403
        },
        "outputId": "cb6646c4-762c-4c64-8641-f2296507aed0"
      },
      "source": [
        "plt.figure(figsize=(7,5))\n",
        "import seaborn as sns\n",
        "sns.distplot(md_rel_energy_arr,hist = False, color='blue',kde = True,kde_kws = {'shade': True})\n",
        "#sns.distplot(b,hist = False, color='red',kde = True,kde_kws = {'shade': True},label='Final dataset')\n",
        "\n",
        "plt.xlabel('$\\Delta E _{CC-DFTB}$ [kcal/mol]',fontsize=16)\n",
        "plt.ylabel('Data density', fontsize = 16)\n",
        "plt.tick_params(axis='both', labelsize=14)\n"
      ],
      "execution_count": 55,
      "outputs": [
        {
          "output_type": "stream",
          "name": "stderr",
          "text": [
            "/usr/local/lib/python3.7/dist-packages/seaborn/distributions.py:2619: FutureWarning: `distplot` is a deprecated function and will be removed in a future version. Please adapt your code to use either `displot` (a figure-level function with similar flexibility) or `kdeplot` (an axes-level function for kernel density plots).\n",
            "  warnings.warn(msg, FutureWarning)\n"
          ]
        },
        {
          "output_type": "display_data",
          "data": {
            "image/png": "[encoded data removed]",
            "text/plain": [
              "<Figure size 504x360 with 1 Axes>"
            ]
          },
          "metadata": {
            "needs_background": "light"
          }
        }
      ]
    },
    {
      "cell_type": "markdown",
      "metadata": {
        "id": "cIYiMm9m37hO"
      },
      "source": [
        "\n",
        "# Encode the Molecular Structure\n",
        "\n",
        "While in Atomic Simulation Environment, the molecule is saved in terms of its xyz coordinates. For the neural network to work, the molecule needs to be converted into all of its distances and record all of its elements.\n",
        "\n",
        "    \n",
        "*   distances saves all the distances between each individual atoms.\n",
        "*   at_idx_map saves all the atom indices that have the same element.\n",
        "\n"
      ]
    },
    {
      "cell_type": "code",
      "metadata": {
        "colab": {
          "base_uri": "https://localhost:8080/"
        },
        "id": "r19wIa7z2KZs",
        "outputId": "ec3f510c-ab22-40f9-f86c-fc162ffbc43c"
      },
      "source": [
        "nAtoms, xyzArr = xyzArr_generator(md_train_arr)\n",
        "\n",
        "# Calculate distance dataframe from xyz coordinates\n",
        "distances = src_nogrd.distances_from_xyz(xyzArr, nAtoms)\n",
        "distances.head()\n",
        "print(distances.shape)\n",
        "\n",
        "#enlist the elements\n",
        "SUPPORTED_ELEMENTS = ['C','H','S']\n",
        "\n",
        "at_idx_map = at_idx_map_generator(md_train_arr[0])\n",
        "print(at_idx_map)\n",
        "#print(at_idx_map_naive)\n",
        "\n",
        "distances.max"
      ],
      "execution_count": null,
      "outputs": [
        {
          "output_type": "stream",
          "name": "stdout",
          "text": [
            "(30, 105)\n",
            "{'H': array([ 2,  3,  4,  7,  8,  9, 12, 13, 14]), 'C': array([ 0,  5, 10]), 'S': array([ 1,  6, 11])}\n"
          ]
        },
        {
          "output_type": "execute_result",
          "data": {
            "text/plain": [
              "<bound method DataFrame.max of       (0, 1)    (0, 2)    (0, 3)  ...  (12, 13)  (12, 14)  (13, 14)\n",
              "0   1.841822  1.089281  1.087085  ...  1.770497  1.773568  1.770998\n",
              "1   1.841822  1.089281  1.087085  ...  1.770492  1.773568  1.770998\n",
              "2   1.841822  1.089281  1.087085  ...  1.770500  1.773564  1.770989\n",
              "3   1.841822  1.089281  1.087085  ...  1.770495  1.773566  1.770998\n",
              "4   1.841822  1.089281  1.087085  ...  1.770490  1.773566  1.770998\n",
              "5   1.841822  1.089281  1.087085  ...  1.770498  1.773569  1.770998\n",
              "6   1.841822  1.089281  1.087085  ...  1.770500  1.773564  1.770989\n",
              "7   1.841822  1.089281  1.087085  ...  1.770488  1.773564  1.770998\n",
              "8   1.841822  1.089281  1.087085  ...  1.770496  1.773567  1.770998\n",
              "9   1.841822  1.089281  1.087085  ...  1.770498  1.773569  1.770998\n",
              "10  1.841822  1.089281  1.087085  ...  1.770497  1.773568  1.770998\n",
              "11  1.841822  1.089281  1.087085  ...  1.770492  1.773568  1.770998\n",
              "12  1.841822  1.089281  1.087085  ...  1.770500  1.773564  1.770989\n",
              "13  1.841822  1.089281  1.087085  ...  1.770495  1.773566  1.770998\n",
              "14  1.841822  1.089281  1.087085  ...  1.770490  1.773566  1.770998\n",
              "15  1.841822  1.089281  1.087085  ...  1.770498  1.773569  1.770998\n",
              "16  1.841822  1.089281  1.087085  ...  1.770500  1.773564  1.770989\n",
              "17  1.841822  1.089281  1.087085  ...  1.770488  1.773564  1.770998\n",
              "18  1.841822  1.089281  1.087085  ...  1.770496  1.773567  1.770998\n",
              "19  1.841822  1.089281  1.087085  ...  1.770498  1.773569  1.770998\n",
              "20  1.841822  1.089281  1.087085  ...  1.770497  1.773568  1.770998\n",
              "21  1.841822  1.089281  1.087085  ...  1.770492  1.773568  1.770998\n",
              "22  1.841822  1.089281  1.087085  ...  1.770500  1.773564  1.770989\n",
              "23  1.841822  1.089281  1.087085  ...  1.770495  1.773566  1.770998\n",
              "24  1.841822  1.089281  1.087085  ...  1.770490  1.773566  1.770998\n",
              "25  1.841822  1.089281  1.087085  ...  1.770498  1.773569  1.770998\n",
              "26  1.841822  1.089281  1.087085  ...  1.770500  1.773564  1.770989\n",
              "27  1.841822  1.089281  1.087085  ...  1.770488  1.773564  1.770998\n",
              "28  1.841822  1.089281  1.087085  ...  1.770496  1.773567  1.770998\n",
              "29  1.841822  1.089281  1.087085  ...  1.770498  1.773569  1.770998\n",
              "\n",
              "[30 rows x 105 columns]>"
            ]
          },
          "metadata": {},
          "execution_count": 7
        }
      ]
    },
    {
      "cell_type": "markdown",
      "metadata": {
        "id": "6K6NlN3-4yA0"
      },
      "source": [
        "##  Generate the symmetry function vector ##\n",
        "Symmetry Function is calculated from the Cartesian xyz coordinate and the element type of the individual atom. \n",
        "\n",
        "The radial and angular components of the symmetry functions (Gfuncs)\n",
        "$$G_{i}^{\\text{rad}} = \\sum_{j \\neq i} \n",
        "e^{-\n",
        "\\eta (R_{ij}-R_s)^2} \n",
        "$$\n",
        "\n",
        "$$\n",
        "G_{i}^{\\text{ang}} = 2^{1-\\zeta}\\sum_{j \\neq i} \\sum_{k \\neq i, j}  \n",
        " (1+\\lambda \\cos \\theta_{ijk})^\\zeta\n",
        "e^{-\\eta' (R_{ij}^2 + R_{ik}^2 + R_{jk}^2)} \n",
        "$$\n",
        "\n",
        "A set of paramters, $(\\eta, R_s)_{\\text{rad}}$ and $(\\zeta, \\lambda, \\eta')_{\\text{ang}}$, characterized each set of features must be chosen to balance between the accuracy and the performance of the model."
      ]
    },
    {
      "cell_type": "markdown",
      "metadata": {
        "id": "lytoANLR5A-j"
      },
      "source": [
        "Set Parameters for the Symmetry Functions\n",
        "\n",
        "The parameters will be saved in the structure Gparam_dict to search for the symmetry function.\n",
        "\n",
        "WARNING!! Don't change the position of the hyperparameters in the array. The simplified routine are calculated based on that. Change the way the array is constructed is allows. But ang_params must always have [eta, zeta, lambd]"
      ]
    },
    {
      "cell_type": "code",
      "metadata": {
        "colab": {
          "base_uri": "https://localhost:8080/"
        },
        "id": "5Jobyuce5ANr",
        "outputId": "decbfd56-b612-436d-8ff3-c1ec0997d017"
      },
      "source": [
        "# radial symmetry function parameters\n",
        "# Need to automate the Rs_array part\n",
        "cutoff_rad = 5\n",
        "#Rs_array = np.linspace(0.8, 5, num=24)   # based on max and min of the distances\n",
        "Rs_array = np.linspace(0.2, 5, num=15)   # based on max and min of the distances\n",
        "eta_array = 5/(2.0*np.square(0.2*Rs_array))\n",
        "rad_params = np.array([(Rs_array[i], eta_array[i], cutoff_rad) for i in range(len(Rs_array)) ])\n",
        "\n",
        "\n",
        "\n",
        "# angular symmetry function parameters\n",
        "cutoff_ang = 4\n",
        "lambd_array = np.array([-1, 1])\n",
        "#zeta_array = np.array([1, 4, 16])\n",
        "zeta_array = np.array([4,16])\n",
        "#eta_ang_array = np.array([0.001, 0.01, 0.05])\n",
        "eta_ang_array = np.array( [0.001, 0.05])\n",
        "    \n",
        "# Each of the element need to be parametrized for all of the list. \n",
        "angList = np.array([e1+e2 for e1, e2 in comb_replace(SUPPORTED_ELEMENTS, 2)])\n",
        "print(angList)\n",
        "ang_comp = {el : angList for el in SUPPORTED_ELEMENTS}\n",
        "ang_params = np.array([[eta, zeta, lambd, cutoff_ang] for eta in eta_ang_array for zeta in zeta_array for lambd in lambd_array])\n",
        "\n",
        "Gparam_dict = {}\n",
        "for at_type in at_idx_map.keys():\n",
        "   Gparam_dict[at_type] = {}\n",
        "   Gparam_dict[at_type]['rad'] = {}\n",
        "   for at2_rad in at_idx_map.keys():\n",
        "           Gparam_dict[at_type]['rad'][at2_rad] = rad_params\n",
        "\n",
        "   # This Section is already designed to be general\n",
        "   Gparam_dict[at_type]['ang'] = {}\n",
        "   for at23_ang in ang_comp[at_type]:\n",
        "       Gparam_dict[at_type]['ang'][at23_ang] = ang_params\n",
        "for at_type in Gparam_dict.keys():\n",
        "   print(Gparam_dict[at_type]['rad'].keys())"
      ],
      "execution_count": null,
      "outputs": [
        {
          "output_type": "stream",
          "name": "stdout",
          "text": [
            "['CC' 'CH' 'CS' 'HH' 'HS' 'SS']\n",
            "dict_keys(['H', 'C', 'S'])\n",
            "dict_keys(['H', 'C', 'S'])\n",
            "dict_keys(['H', 'C', 'S'])\n"
          ]
        }
      ]
    },
    {
      "cell_type": "markdown",
      "metadata": {
        "id": "25vmBMfO5oGz"
      },
      "source": [
        "Save the symmetry fucntion vectors"
      ]
    },
    {
      "cell_type": "code",
      "metadata": {
        "id": "4s53h-_25sve"
      },
      "source": [
        "path = \"/content/tutorial/src\"\n",
        "rad_name = \"symFunc_rad.param\"\n",
        "ang_name = \"symFunc_ang.param\"\n",
        "with open(os.path.join(path, rad_name), \"w\") as rad_f:\n",
        "        rad_f.write(str(cutoff_rad)+\"\\n\")\n",
        "        for dist, eta in zip(Rs_array, eta_array):\n",
        "            rad_f.write(f\"{dist} {eta}\\n\")\n",
        "\n",
        "with open(os.path.join(path, ang_name), \"w\") as ang_f:\n",
        "        ang_f.write(str(cutoff_ang)+\"\\n\")\n",
        "        for row in ang_params:\n",
        "            ang_f.write(f\"{row[0]} {row[1]} {row[2]}\\n\")"
      ],
      "execution_count": null,
      "outputs": []
    },
    {
      "cell_type": "markdown",
      "metadata": {
        "id": "Wy8O6PVHVxwt"
      },
      "source": [
        "Print your angular and radial parameters"
      ]
    },
    {
      "cell_type": "code",
      "metadata": {
        "id": "AU7zDXhL5H_z",
        "colab": {
          "base_uri": "https://localhost:8080/"
        },
        "outputId": "f8c0658b-990c-4d86-c48b-7b8bd11742f7"
      },
      "source": [
        "print()\n",
        "print()"
      ],
      "execution_count": null,
      "outputs": [
        {
          "output_type": "stream",
          "name": "stdout",
          "text": [
            "\n",
            "\n"
          ]
        }
      ]
    },
    {
      "cell_type": "markdown",
      "metadata": {
        "id": "Tds0ifJ9WVDM"
      },
      "source": [
        "Generate the symmetry function vectors"
      ]
    },
    {
      "cell_type": "code",
      "metadata": {
        "id": "RYqTPqBDUi6k"
      },
      "source": [
        "Gfunc_data = src_nogrd.symmetry_function(distances, at_idx_map, Gparam_dict)"
      ],
      "execution_count": null,
      "outputs": []
    },
    {
      "cell_type": "markdown",
      "metadata": {
        "id": "iSOcOEpeWRHF"
      },
      "source": [
        "\n",
        "Visualize The Symmetry Function Vector"
      ]
    },
    {
      "cell_type": "code",
      "metadata": {
        "colab": {
          "base_uri": "https://localhost:8080/",
          "height": 299
        },
        "id": "dSzaKJCpWEBb",
        "outputId": "f38316c8-fdc1-48c1-f1cb-3814924280e7"
      },
      "source": [
        "sym_func_show(Gfunc_data, 'C', 0, 0)\n",
        "print(Gfunc_data['C'][0].shape)"
      ],
      "execution_count": null,
      "outputs": [
        {
          "output_type": "stream",
          "name": "stdout",
          "text": [
            "30 93\n"
          ]
        },
        {
          "output_type": "display_data",
          "data": {
            "image/png": "[encoded data removed]",
            "text/plain": [
              "<Figure size 432x288 with 1 Axes>"
            ]
          },
          "metadata": {
            "needs_background": "light"
          }
        },
        {
          "output_type": "stream",
          "name": "stdout",
          "text": [
            "(30, 93)\n"
          ]
        }
      ]
    },
    {
      "cell_type": "code",
      "metadata": {
        "id": "yljR3iwIcmYS"
      },
      "source": [
        "os.mkdir(\"/content/tutorial/model_2B_nUnit\")\n",
        "os.mkdir(\"/content/tutorial/data_model\")"
      ],
      "execution_count": null,
      "outputs": []
    },
    {
      "cell_type": "code",
      "metadata": {
        "id": "16f9eZqtfRLc"
      },
      "source": [
        "# Glboal Var\n",
        "n_samples = len(md_train_arr)\n",
        "\n",
        "#input_dim_list = {}\n",
        "#for at_type in at_idx_map:\n",
        "#    input_dim_list[at_type] = (n_symm_func, 1)"
      ],
      "execution_count": null,
      "outputs": []
    },
    {
      "cell_type": "markdown",
      "metadata": {
        "id": "v5TWtNu6rNNm"
      },
      "source": [
        "How many inputs do you have?"
      ]
    },
    {
      "cell_type": "code",
      "metadata": {
        "colab": {
          "base_uri": "https://localhost:8080/"
        },
        "id": "Q7G4nHygrSKH",
        "outputId": "9d523081-a466-4e83-bd33-8401998b72fc"
      },
      "source": [
        "n_symm_func = Gfunc_data['C'][at_idx_map['C'][0]].shape[1]\n",
        "print(n_symm_func)"
      ],
      "execution_count": null,
      "outputs": [
        {
          "output_type": "stream",
          "name": "stdout",
          "text": [
            "93\n"
          ]
        }
      ]
    },
    {
      "cell_type": "code",
      "metadata": {
        "id": "qbaRUMgnrhNZ"
      },
      "source": [
        "builder = netBuilder(SUPPORTED_ELEMENTS, n_symm_func)"
      ],
      "execution_count": null,
      "outputs": []
    },
    {
      "cell_type": "code",
      "metadata": {
        "colab": {
          "base_uri": "https://localhost:8080/"
        },
        "id": "wON65lPfWLca",
        "outputId": "23b99639-73b9-4432-bebf-26259f6fa17e"
      },
      "source": [
        "subnets = builder.build_subnets(n_dense_layers=2, n_units=15, \n",
        "                      hidden_activation='tanh',\n",
        "                      dropout_type=\"NoFirstDrop\", dropout_ratio=0.015)"
      ],
      "execution_count": null,
      "outputs": [
        {
          "output_type": "stream",
          "name": "stdout",
          "text": [
            "WARNING:tensorflow:From /usr/local/lib/python3.7/dist-packages/keras/backend/tensorflow_backend.py:74: The name tf.get_default_graph is deprecated. Please use tf.compat.v1.get_default_graph instead.\n",
            "\n",
            "WARNING:tensorflow:From /usr/local/lib/python3.7/dist-packages/keras/backend/tensorflow_backend.py:517: The name tf.placeholder is deprecated. Please use tf.compat.v1.placeholder instead.\n",
            "\n",
            "WARNING:tensorflow:From /usr/local/lib/python3.7/dist-packages/keras/backend/tensorflow_backend.py:4138: The name tf.random_uniform is deprecated. Please use tf.random.uniform instead.\n",
            "\n",
            "WARNING:tensorflow:From /usr/local/lib/python3.7/dist-packages/keras/backend/tensorflow_backend.py:174: The name tf.get_default_session is deprecated. Please use tf.compat.v1.get_default_session instead.\n",
            "\n",
            "WARNING:tensorflow:From /usr/local/lib/python3.7/dist-packages/keras/backend/tensorflow_backend.py:181: The name tf.ConfigProto is deprecated. Please use tf.compat.v1.ConfigProto instead.\n",
            "\n",
            "WARNING:tensorflow:From /usr/local/lib/python3.7/dist-packages/keras/backend/tensorflow_backend.py:186: The name tf.Session is deprecated. Please use tf.compat.v1.Session instead.\n",
            "\n",
            "WARNING:tensorflow:From /usr/local/lib/python3.7/dist-packages/keras/backend/tensorflow_backend.py:190: The name tf.global_variables is deprecated. Please use tf.compat.v1.global_variables instead.\n",
            "\n",
            "WARNING:tensorflow:From /usr/local/lib/python3.7/dist-packages/keras/backend/tensorflow_backend.py:199: The name tf.is_variable_initialized is deprecated. Please use tf.compat.v1.is_variable_initialized instead.\n",
            "\n",
            "WARNING:tensorflow:From /usr/local/lib/python3.7/dist-packages/keras/backend/tensorflow_backend.py:206: The name tf.variables_initializer is deprecated. Please use tf.compat.v1.variables_initializer instead.\n",
            "\n",
            "WARNING:tensorflow:From /usr/local/lib/python3.7/dist-packages/keras/backend/tensorflow_backend.py:133: The name tf.placeholder_with_default is deprecated. Please use tf.compat.v1.placeholder_with_default instead.\n",
            "\n",
            "WARNING:tensorflow:From /usr/local/lib/python3.7/dist-packages/keras/backend/tensorflow_backend.py:3445: calling dropout (from tensorflow.python.ops.nn_ops) with keep_prob is deprecated and will be removed in a future version.\n",
            "Instructions for updating:\n",
            "Please use `rate` instead of `keep_prob`. Rate should be set to `rate = 1 - keep_prob`.\n"
          ]
        }
      ]
    },
    {
      "cell_type": "code",
      "metadata": {
        "colab": {
          "base_uri": "https://localhost:8080/"
        },
        "id": "0uaGjqdxrsQZ",
        "outputId": "6f3cfc36-9ace-407d-e1c3-2faa7adc1509"
      },
      "source": [
        "model = builder.build_molecular_net(at_idx_map, subnets)\n",
        "print(model.summary())"
      ],
      "execution_count": null,
      "outputs": [
        {
          "output_type": "stream",
          "name": "stdout",
          "text": [
            "__________________________________________________________________________________________________\n",
            "Layer (type)                    Output Shape         Param #     Connected to                     \n",
            "==================================================================================================\n",
            "H-2-ele (InputLayer)            (None, 93)           0                                            \n",
            "__________________________________________________________________________________________________\n",
            "H-3-ele (InputLayer)            (None, 93)           0                                            \n",
            "__________________________________________________________________________________________________\n",
            "H-4-ele (InputLayer)            (None, 93)           0                                            \n",
            "__________________________________________________________________________________________________\n",
            "H-7-ele (InputLayer)            (None, 93)           0                                            \n",
            "__________________________________________________________________________________________________\n",
            "H-8-ele (InputLayer)            (None, 93)           0                                            \n",
            "__________________________________________________________________________________________________\n",
            "H-9-ele (InputLayer)            (None, 93)           0                                            \n",
            "__________________________________________________________________________________________________\n",
            "H-12-ele (InputLayer)           (None, 93)           0                                            \n",
            "__________________________________________________________________________________________________\n",
            "H-13-ele (InputLayer)           (None, 93)           0                                            \n",
            "__________________________________________________________________________________________________\n",
            "H-14-ele (InputLayer)           (None, 93)           0                                            \n",
            "__________________________________________________________________________________________________\n",
            "C-0-ele (InputLayer)            (None, 93)           0                                            \n",
            "__________________________________________________________________________________________________\n",
            "C-5-ele (InputLayer)            (None, 93)           0                                            \n",
            "__________________________________________________________________________________________________\n",
            "C-10-ele (InputLayer)           (None, 93)           0                                            \n",
            "__________________________________________________________________________________________________\n",
            "S-1-ele (InputLayer)            (None, 93)           0                                            \n",
            "__________________________________________________________________________________________________\n",
            "S-6-ele (InputLayer)            (None, 93)           0                                            \n",
            "__________________________________________________________________________________________________\n",
            "S-11-ele (InputLayer)           (None, 93)           0                                            \n",
            "__________________________________________________________________________________________________\n",
            "H-subnet (Sequential)           (None, 1)            1666        H-2-ele[0][0]                    \n",
            "                                                                 H-3-ele[0][0]                    \n",
            "                                                                 H-4-ele[0][0]                    \n",
            "                                                                 H-7-ele[0][0]                    \n",
            "                                                                 H-8-ele[0][0]                    \n",
            "                                                                 H-9-ele[0][0]                    \n",
            "                                                                 H-12-ele[0][0]                   \n",
            "                                                                 H-13-ele[0][0]                   \n",
            "                                                                 H-14-ele[0][0]                   \n",
            "__________________________________________________________________________________________________\n",
            "C-subnet (Sequential)           (None, 1)            1666        C-0-ele[0][0]                    \n",
            "                                                                 C-5-ele[0][0]                    \n",
            "                                                                 C-10-ele[0][0]                   \n",
            "__________________________________________________________________________________________________\n",
            "S-subnet (Sequential)           (None, 1)            1666        S-1-ele[0][0]                    \n",
            "                                                                 S-6-ele[0][0]                    \n",
            "                                                                 S-11-ele[0][0]                   \n",
            "__________________________________________________________________________________________________\n",
            "add_1 (Add)                     (None, 1)            0           H-subnet[1][0]                   \n",
            "                                                                 H-subnet[2][0]                   \n",
            "                                                                 H-subnet[3][0]                   \n",
            "                                                                 H-subnet[4][0]                   \n",
            "                                                                 H-subnet[5][0]                   \n",
            "                                                                 H-subnet[6][0]                   \n",
            "                                                                 H-subnet[7][0]                   \n",
            "                                                                 H-subnet[8][0]                   \n",
            "                                                                 H-subnet[9][0]                   \n",
            "                                                                 C-subnet[1][0]                   \n",
            "                                                                 C-subnet[2][0]                   \n",
            "                                                                 C-subnet[3][0]                   \n",
            "                                                                 S-subnet[1][0]                   \n",
            "                                                                 S-subnet[2][0]                   \n",
            "                                                                 S-subnet[3][0]                   \n",
            "==================================================================================================\n",
            "Total params: 4,998\n",
            "Trainable params: 4,998\n",
            "Non-trainable params: 0\n",
            "__________________________________________________________________________________________________\n",
            "None\n"
          ]
        }
      ]
    },
    {
      "cell_type": "code",
      "metadata": {
        "id": "K5K4p_GcWd8Y"
      },
      "source": [
        "def idx_generator(n_samples, val_ratio, test_ratio):\n",
        "    \"\"\"\n",
        "    Function:\n",
        "    Randomly shuffle the indexes and to generate indexes for the training, validation and test set.\n",
        "    \n",
        "        Args:\n",
        "            n_samples: number of samples, an interger\n",
        "            val_ratio: ratio of the validation set (compared with all data set)\n",
        "            test_ratio: \n",
        "    \n",
        "        Warning: 0 < val_ratio + test_ratio < 1.\n",
        "    \n",
        "        Output:\n",
        "            train_idx: indexes for training set\n",
        "            val_idx: indexes for the validation set\n",
        "            test_idx: indexes for the test set    \n",
        "    \"\"\"\n",
        "    if val_ratio + test_ratio >= 1 or val_ratio + test_ratio <= 0:\n",
        "        raise  ValueError(\"idx_generator: the val_ratio and test_ratio must be in between 0 and 1\")\n",
        "    \n",
        "    shuffled_indices = np.random.permutation(n_samples)\n",
        "    \n",
        "    \n",
        "    val_set_size = int(n_samples * val_ratio)\n",
        "    val_idx  = shuffled_indices[:val_set_size]\n",
        "    \n",
        "    test_set_size= int(n_samples * val_ratio)\n",
        "    test_idx = shuffled_indices[val_set_size:val_set_size+test_set_size]\n",
        "    \n",
        "    train_idx = shuffled_indices[val_set_size + test_set_size:]\n",
        "    \n",
        "    return train_idx, val_idx, test_idx\n",
        "    \n"
      ],
      "execution_count": null,
      "outputs": []
    },
    {
      "cell_type": "markdown",
      "metadata": {
        "id": "vS1QQVQMaKF3"
      },
      "source": [
        "Divide your test set in 80% training, 10% validation and 10% test set. What is the purpuse of this?"
      ]
    },
    {
      "cell_type": "code",
      "metadata": {
        "colab": {
          "base_uri": "https://localhost:8080/"
        },
        "id": "8ouXYj2HaFzD",
        "outputId": "34a9ab01-4a8d-4f0b-a4b6-262226222ca5"
      },
      "source": [
        "## Split the Training, Validation & Test Data \n",
        "n_samples = len(md_train_arr)\n",
        "train_idx, val_idx, test_idx = idx_generator(n_samples, 0.1,0.1)\n",
        "print(train_idx.shape)\n",
        "print(val_idx.shape)\n",
        "# Check whether it is totally splitted\n",
        "if train_idx.shape[0] + test_idx.shape[0] + val_idx.shape[0] != n_samples:\n",
        "    raise ValueError(\"Splitting Test does not equal to the entire set!\")"
      ],
      "execution_count": null,
      "outputs": [
        {
          "output_type": "stream",
          "name": "stdout",
          "text": [
            "(24,)\n",
            "(3,)\n"
          ]
        }
      ]
    },
    {
      "cell_type": "code",
      "metadata": {
        "colab": {
          "base_uri": "https://localhost:8080/"
        },
        "id": "-1dH4c1MailQ",
        "outputId": "e23dd194-84e2-4815-d056-8f0f13f716db"
      },
      "source": [
        "y_train = md_rel_energy_arr[train_idx] \n",
        "y_val   = md_rel_energy_arr[val_idx]\n",
        "y_test  = md_rel_energy_arr[test_idx]\n",
        "\n",
        "print('y_train min, max = ', '%.5f  %.5f' %(y_train.min(), y_train.max() ))\n",
        "print('y_test min, max = ', '%.5f  %.5f' %(y_test.min(), y_test.max()) )"
      ],
      "execution_count": null,
      "outputs": [
        {
          "output_type": "stream",
          "name": "stdout",
          "text": [
            "y_train min, max =  -62.78700  -49.61330\n",
            "y_test min, max =  -62.78700  -49.61330\n"
          ]
        }
      ]
    },
    {
      "cell_type": "code",
      "metadata": {
        "id": "AhFgeX8EarpC"
      },
      "source": [
        "def split_training_data(Feat_data, at_idx_map, train_idx, val_idx, test_idx):\n",
        "    \"\"\"\n",
        "    Function:\n",
        "    Split the training set, \n",
        "        \n",
        "    Input:\n",
        "    Feat_data_train: Strucutre for the feat data Feat_data_train['element'][atom]\n",
        "    at_idx_map: Atom Index Map\n",
        "    train_idx: the indices used for the training \n",
        "    \n",
        "    \n",
        "    Output:\n",
        "    Return the Feat_train, Feat_val and Feat_test set in the shape\n",
        "    Feat_scaler['element'][atom][Feature Number]    \n",
        "    \"\"\"\n",
        "    \n",
        "    \n",
        "    Feat_train_scaled = {}\n",
        "    Feat_val_scaled = {}\n",
        "    Feat_test_scaled = {}\n",
        "\n",
        "    \n",
        "    for at_type in at_idx_map.keys():\n",
        "        Feat_train_scaled[at_type] = {}\n",
        "        Feat_val_scaled[at_type] = {}\n",
        "        Feat_test_scaled[at_type] = {}\n",
        "        \n",
        "        for at in at_idx_map[at_type]:\n",
        "            Feat_train_scaled[at_type][at] = Feat_data[at_type][at][train_idx,]\n",
        "            #import pdb; pdb.set_trace()\n",
        "            Feat_val_scaled[at_type][at]   = Feat_data[at_type][at][val_idx,]\n",
        "            Feat_test_scaled[at_type][at]  = Feat_data[at_type][at][test_idx,]\n",
        "            \n",
        "\n",
        "            \n",
        "    \n",
        "    return Feat_train_scaled, Feat_val_scaled, Feat_test_scaled"
      ],
      "execution_count": null,
      "outputs": []
    },
    {
      "cell_type": "code",
      "metadata": {
        "colab": {
          "base_uri": "https://localhost:8080/"
        },
        "id": "sGiBr4-lazbf",
        "outputId": "ca7a9e0e-e746-4afa-96fd-44b078ef8518"
      },
      "source": [
        "train_scaled, val_scaled, test_scaled = split_training_data(Gfunc_data, at_idx_map, train_idx, val_idx, test_idx)\n",
        "print(test_scaled['C'][0].shape)\n",
        "#Feat_train_scaled, Feat_val_scaled, Feat_test_scaled = split_training_data(Feat_data, at_idx_map, train_idx, val_idx, test_idx)\n",
        "#print(Feat_train_scaled['H'][4].shape)\n",
        "\n",
        "inp_train = []\n",
        "inp_val   = []\n",
        "inp_test  = []\n",
        "for at_type in at_idx_map.keys():\n",
        "\n",
        "    for atA in at_idx_map[at_type]:\n",
        "        inp_train.append(train_scaled[at_type][atA])\n",
        "        #inp_train.append(Feat_train_scaled[at_type][atA])\n",
        "        \n",
        "        inp_val.append(val_scaled[at_type][atA])\n",
        "        #inp_val.append(Feat_val_scaled[at_type][atA])\n",
        "        \n",
        "        inp_test.append(test_scaled[at_type][atA])\n",
        "        #inp_test.append(Feat_test_scaled[at_type][atA])"
      ],
      "execution_count": null,
      "outputs": [
        {
          "output_type": "stream",
          "name": "stdout",
          "text": [
            "(3, 93)\n"
          ]
        }
      ]
    },
    {
      "cell_type": "code",
      "metadata": {
        "id": "Fi2DpzGba4MK"
      },
      "source": [
        "def get_inp(at_idx_map, Gfunc_scaled, Feat_scaled):\n",
        "    inp_arr = []\n",
        "    for at_type in at_idx_map.keys():\n",
        "        for at_idx in at_idx_map[at_type]:\n",
        "            inp_arr.append(Gfunc_scaled[at_type][at_idx])\n",
        "            inp_arr.append(Feat_scaled[at_type][at_idx])\n",
        "    \n",
        "    return pd.Series(inp_arr)"
      ],
      "execution_count": null,
      "outputs": []
    },
    {
      "cell_type": "code",
      "metadata": {
        "id": "Ivqkp5rDa7jX"
      },
      "source": [
        "from keras.callbacks import ModelCheckpoint\n",
        "model_folder = \"/content/tutorial/model_2B_nUnit\"\n",
        "trainer = netTrainer(model, verbose=1, folder=model_folder)\n",
        "nUnit = 15\n",
        "\n",
        "check1 = model_folder +'/' + str(nUnit) + '.hdf5'\n",
        "checkpointer = ModelCheckpoint(filepath=check1, verbose=0,  monitor='val_mean_squared_error',\\\n",
        "                               mode='min', save_best_only=True)\n",
        "earlystop = EarlyStopping(monitor='val_mean_squared_error', mode='min', patience=100, verbose=0)\n"
      ],
      "execution_count": null,
      "outputs": []
    },
    {
      "cell_type": "code",
      "metadata": {
        "colab": {
          "base_uri": "https://localhost:8080/",
          "height": 286
        },
        "id": "93Ey_q8JoiX7",
        "outputId": "3e139306-279f-450a-f9f8-88f29ea7adb4"
      },
      "source": [
        "print(\"Training Session 1: Learning Rate\", 5e-3)\n",
        "model.compile(loss='mean_squared_error',\n",
        "              optimizer=Adam(lr=5e-3,decay=1e-5),\n",
        "              metrics=['mean_squared_error', 'mean_absolute_error'])\n",
        "\n",
        "history = model.fit(inp_train, y_train, \\\n",
        "                    callbacks=[checkpointer, earlystop],\n",
        "                    batch_size=5, epochs=10, shuffle=True,\n",
        "                    verbose=0, validation_data=(inp_val, y_val)\n",
        "                    )\n",
        "\n",
        "plt.plot(history.history['val_mean_squared_error'])\n",
        "plt.plot(history.history['mean_squared_error'])\n",
        "plt.show()"
      ],
      "execution_count": null,
      "outputs": [
        {
          "output_type": "stream",
          "name": "stdout",
          "text": [
            "Training Session 1: Learning Rate 0.005\n"
          ]
        },
        {
          "output_type": "display_data",
          "data": {
            "image/png": "[encoded data removed]",
            "text/plain": [
              "<Figure size 432x288 with 1 Axes>"
            ]
          },
          "metadata": {
            "needs_background": "light"
          }
        }
      ]
    },
    {
      "cell_type": "code",
      "metadata": {
        "colab": {
          "base_uri": "https://localhost:8080/",
          "height": 282
        },
        "id": "twOkdqJvouHG",
        "outputId": "f16c40e6-4d70-4d58-d91f-14250f8148a2"
      },
      "source": [
        "print(\"Training Session 2: Learning Rate\", 5e-4)\n",
        "model.compile(loss='mean_squared_error',\n",
        "              optimizer=Adam(lr=5e-4,decay=1e-5),\n",
        "              metrics=['mean_squared_error', 'mean_absolute_error'])\n",
        "\n",
        "history2 = model.fit(inp_train, y_train, \\\n",
        "                     callbacks=[checkpointer, earlystop],\n",
        "                    batch_size=5, epochs=10, shuffle=True,\n",
        "                    verbose=0, validation_data=(inp_val, y_val)\n",
        "                    )\n",
        "\n",
        "plt.plot(history2.history['val_mean_squared_error'])\n",
        "plt.plot(history2.history['mean_squared_error'])\n",
        "plt.show()"
      ],
      "execution_count": null,
      "outputs": [
        {
          "output_type": "stream",
          "name": "stdout",
          "text": [
            "Training Session 2: Learning Rate 0.0005\n"
          ]
        },
        {
          "output_type": "display_data",
          "data": {
            "image/png": "[encoded data removed]",
            "text/plain": [
              "<Figure size 432x288 with 1 Axes>"
            ]
          },
          "metadata": {
            "needs_background": "light"
          }
        }
      ]
    },
    {
      "cell_type": "code",
      "metadata": {
        "colab": {
          "base_uri": "https://localhost:8080/",
          "height": 282
        },
        "id": "wTfotynNo1_X",
        "outputId": "3333e281-c680-4ec2-8f0b-25d024a6464d"
      },
      "source": [
        "print(\"Training Session 3: Learning Rate\", 1e-4)\n",
        "model.compile(loss='mean_squared_error',\n",
        "              optimizer=Adam(lr=1e-4,decay=1e-5),\n",
        "              metrics=['mean_squared_error', 'mean_absolute_error'])\n",
        "\n",
        "history3 = model.fit(inp_train, y_train, \\\n",
        "                     callbacks=[checkpointer, earlystop],\n",
        "                    batch_size=10, epochs=20, shuffle=True,\n",
        "                    verbose=0, validation_data=(inp_val, y_val)\n",
        "                    )\n",
        "\n",
        "plt.plot(history3.history['val_mean_squared_error'])\n",
        "plt.plot(history3.history['mean_squared_error'])\n",
        "plt.show()"
      ],
      "execution_count": null,
      "outputs": [
        {
          "output_type": "stream",
          "name": "stdout",
          "text": [
            "Training Session 3: Learning Rate 0.0001\n"
          ]
        },
        {
          "output_type": "display_data",
          "data": {
            "image/png": "[encoded data removed]",
            "text/plain": [
              "<Figure size 432x288 with 1 Axes>"
            ]
          },
          "metadata": {
            "needs_background": "light"
          }
        }
      ]
    },
    {
      "cell_type": "code",
      "metadata": {
        "colab": {
          "base_uri": "https://localhost:8080/",
          "height": 282
        },
        "id": "SLkHvT7oo-8X",
        "outputId": "94da3245-9578-4c1d-db20-d32fde212c45"
      },
      "source": [
        "print(\"Training Session 4: Learning Rate\", 5e-5)\n",
        "model.compile(loss='mean_squared_error',\n",
        "              optimizer=Adam(lr=5e-5,decay=1e-5),\n",
        "              metrics=['mean_squared_error', 'mean_absolute_error'])\n",
        "\n",
        "\n",
        "history4 = model.fit(inp_train, y_train, \\\n",
        "                     callbacks=[checkpointer, earlystop],\n",
        "                    batch_size=5, epochs=50, shuffle=True,\n",
        "                    verbose=0, validation_data=(inp_val, y_val)\n",
        "                    )\n",
        "\n",
        "plt.plot(history4.history['val_mean_squared_error'])\n",
        "plt.plot(history4.history['mean_squared_error'])\n",
        "plt.show()"
      ],
      "execution_count": null,
      "outputs": [
        {
          "output_type": "stream",
          "name": "stdout",
          "text": [
            "Training Session 4: Learning Rate 5e-05\n"
          ]
        },
        {
          "output_type": "display_data",
          "data": {
            "image/png": "[encoded data removed]",
            "text/plain": [
              "<Figure size 432x288 with 1 Axes>"
            ]
          },
          "metadata": {
            "needs_background": "light"
          }
        }
      ]
    },
    {
      "cell_type": "code",
      "metadata": {
        "colab": {
          "base_uri": "https://localhost:8080/",
          "height": 269
        },
        "id": "Scn08iS2pgMl",
        "outputId": "c36d6594-e30e-44e7-9d58-97ee59b01f86"
      },
      "source": [
        "plt.loglog(history.history['val_mean_squared_error'] + history2.history['val_mean_squared_error'] \\\n",
        "           + history3.history['val_mean_squared_error']+ history4.history['val_mean_squared_error'] \\\n",
        "           , label='Validation MSE')\n",
        "plt.loglog(history.history['mean_squared_error'] + history2.history['mean_squared_error']\\\n",
        "           + history3.history['mean_squared_error']+ history4.history['mean_squared_error'] \\\n",
        "           , label='Training MSE')\n",
        "plt.legend()\n",
        "plt.show()"
      ],
      "execution_count": null,
      "outputs": [
        {
          "output_type": "display_data",
          "data": {
            "image/png": "[encoded data removed]",
            "text/plain": [
              "<Figure size 432x288 with 1 Axes>"
            ]
          },
          "metadata": {
            "needs_background": "light"
          }
        }
      ]
    },
    {
      "cell_type": "code",
      "metadata": {
        "colab": {
          "base_uri": "https://localhost:8080/"
        },
        "id": "iDIw5Ew8lRvI",
        "outputId": "c66b8858-46b9-4c9b-ae4f-eec9dbb7f603"
      },
      "source": [
        "!pip install q h5py==2.10.0"
      ],
      "execution_count": null,
      "outputs": [
        {
          "output_type": "stream",
          "name": "stdout",
          "text": [
            "Requirement already satisfied: q in /usr/local/lib/python3.7/dist-packages (2.6)\n",
            "Requirement already satisfied: h5py==2.10.0 in /usr/local/lib/python3.7/dist-packages (2.10.0)\n",
            "Requirement already satisfied: numpy>=1.7 in /usr/local/lib/python3.7/dist-packages (from h5py==2.10.0) (1.19.5)\n",
            "Requirement already satisfied: six in /usr/local/lib/python3.7/dist-packages (from h5py==2.10.0) (1.15.0)\n"
          ]
        }
      ]
    },
    {
      "cell_type": "code",
      "metadata": {
        "id": "iqEtmuKoa_Qh",
        "colab": {
          "base_uri": "https://localhost:8080/"
        },
        "outputId": "a558b834-7560-47e9-d1cd-0a01d2eea1c7"
      },
      "source": [
        "# Load model weights\n",
        "model.load_weights(check1)\n",
        "\n",
        "# Error on TEST set \n",
        "y_pred_scaled = model.predict(inp_test)\n",
        "y_pred = y_pred_scaled.T[0]  # in kcal/mol unit\n",
        "y_obs = y_test #/Eunit\n",
        "\n",
        "err_test = np.sqrt(mean_squared_error(y_pred, y_obs))\n",
        "errAbs_test = mean_absolute_error(y_pred, y_obs) \n",
        "print('RMSE_test:', '%.4f' % err_test)\n",
        "print('MAE_test:','%.4f' % errAbs_test)"
      ],
      "execution_count": null,
      "outputs": [
        {
          "output_type": "stream",
          "name": "stdout",
          "text": [
            "RMSE_test: 0.4336\n",
            "MAE_test: 0.3945\n"
          ]
        }
      ]
    },
    {
      "cell_type": "code",
      "metadata": {
        "colab": {
          "base_uri": "https://localhost:8080/",
          "height": 452
        },
        "id": "KQGfhf9fn588",
        "outputId": "66038a21-81f3-4ff3-8a43-fbae371499dc"
      },
      "source": [
        "#print('The mean value of energies in test set: ', '%.4f' %E_ref_orig[test_idx].mean())\n",
        "\n",
        "# Scatter plot of predicted and true values of energies in the test set\n",
        "x2 = pd.Series(y_pred, name=\"Predicted\")\n",
        "x1 = pd.Series(y_obs, name=\"Observed\")\n",
        "\n",
        "plt.figure(figsize=(7,5))\n",
        "#plt.plot(x, x, dashes=[10, 5, 20, 5],color='navy',linewidth=1)\n",
        "ax=sns.kdeplot(x2,x1, cmap='viridis_r',shade=True, shade_lowest=False)\n",
        "plt.title('Test Set Prediction', fontsize=20)\n",
        "plt.ylabel('Reference [kcal/mol]', fontsize = 16)\n",
        "plt.xlabel('Prediction [kcal/mol]',fontsize = 16)\n",
        "plt.tick_params(axis='both', labelsize=14)\n",
        "plt.xlim([min(y_obs), max(y_obs)])\n",
        "plt.ylim([min(y_obs), max(y_obs)])\n",
        "plt.savefig(\"TestSetPO\", dpi=300)"
      ],
      "execution_count": null,
      "outputs": [
        {
          "output_type": "stream",
          "name": "stderr",
          "text": [
            "/usr/local/lib/python3.7/dist-packages/seaborn/_decorators.py:43: FutureWarning: Pass the following variable as a keyword arg: y. From version 0.12, the only valid positional argument will be `data`, and passing other arguments without an explicit keyword will result in an error or misinterpretation.\n",
            "  FutureWarning\n",
            "/usr/local/lib/python3.7/dist-packages/seaborn/distributions.py:1718: UserWarning: `shade_lowest` is now deprecated in favor of `thresh`. Setting `thresh=0.05`, but please update your code.\n",
            "  warnings.warn(msg, UserWarning)\n"
          ]
        },
        {
          "output_type": "display_data",
          "data": {
            "image/png": "[encoded data removed]",
            "text/plain": [
              "<Figure size 504x360 with 1 Axes>"
            ]
          },
          "metadata": {
            "needs_background": "light"
          }
        }
      ]
    },
    {
      "cell_type": "code",
      "metadata": {
        "id": "4VimHtF0spAw"
      },
      "source": [
        "for el in SUPPORTED_ELEMENTS:\n",
        "    nm = f\"{el}-subnet\"\n",
        "    write_subnet_text(model, save_dir, nm)"
      ],
      "execution_count": 61,
      "outputs": []
    },
    {
      "cell_type": "code",
      "metadata": {
        "id": "o0wN5SoxoEx5"
      },
      "source": [
        ""
      ],
      "execution_count": null,
      "outputs": []
    }
  ]
}